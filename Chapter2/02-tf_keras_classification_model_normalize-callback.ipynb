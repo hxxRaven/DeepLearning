{
 "cells": [
  {
   "cell_type": "code",
   "execution_count": 1,
   "metadata": {},
   "outputs": [],
   "source": [
    "import matplotlib as mpl\n",
    "import matplotlib.pyplot as plt\n",
    "\n",
    "import numpy as np\n",
    "import sklearn\n",
    "import pandas as pd\n",
    "import os, sys, time\n",
    "\n",
    "import tensorflow as tf\n",
    "from tensorflow import keras\n",
    "\n",
    "%matplotlib inline"
   ]
  },
  {
   "cell_type": "code",
   "execution_count": 2,
   "metadata": {},
   "outputs": [
    {
     "name": "stdout",
     "output_type": "stream",
     "text": [
      "matplotlib 3.1.1\n",
      "numpy 1.17.4\n",
      "sklearn 0.22\n",
      "pandas 0.25.3\n",
      "tensorflow 2.1.0\n"
     ]
    }
   ],
   "source": [
    "for model in (mpl, plt. np, sklearn, pd, tf):\n",
    "    print(model.__name__, model.__version__)"
   ]
  },
  {
   "cell_type": "code",
   "execution_count": 2,
   "metadata": {},
   "outputs": [],
   "source": [
    "fashion_mnist = keras.datasets.fashion_mnist"
   ]
  },
  {
   "cell_type": "code",
   "execution_count": 3,
   "metadata": {},
   "outputs": [
    {
     "name": "stdout",
     "output_type": "stream",
     "text": [
      "(55000, 28, 28) (55000,)\n",
      "(5000, 28, 28) (5000,)\n",
      "(10000, 28, 28) (10000,)\n"
     ]
    }
   ],
   "source": [
    "(x_train_all, y_train_all), (x_test, y_test) = fashion_mnist.load_data()\n",
    "x_valid, x_train = x_train_all[:5000], x_train_all[5000:]\n",
    "y_valid, y_train = y_train_all[:5000], y_train_all[5000:]\n",
    "\n",
    "print(x_train.shape, y_train.shape)\n",
    "print(x_valid.shape, y_valid.shape)\n",
    "print(x_test.shape, y_test.shape)"
   ]
  },
  {
   "cell_type": "code",
   "execution_count": 4,
   "metadata": {},
   "outputs": [
    {
     "ename": "NameError",
     "evalue": "name 'show_imagines' is not defined",
     "output_type": "error",
     "traceback": [
      "\u001b[1;31m---------------------------------------------------------------------------\u001b[0m",
      "\u001b[1;31mNameError\u001b[0m                                 Traceback (most recent call last)",
      "\u001b[1;32m<ipython-input-4-e66cb97c07ea>\u001b[0m in \u001b[0;36m<module>\u001b[1;34m\u001b[0m\n\u001b[0;32m      1\u001b[0m class_names = ['T-shirt', 'Trouser', 'Pullover', 'Dress', 'Coat', \n\u001b[0;32m      2\u001b[0m                'Sandal', 'Shirt', 'Sneaker', 'Bag', 'Ankle boot']\n\u001b[1;32m----> 3\u001b[1;33m \u001b[0mshow_imagines\u001b[0m\u001b[1;33m(\u001b[0m\u001b[1;36m3\u001b[0m\u001b[1;33m,\u001b[0m \u001b[1;36m5\u001b[0m\u001b[1;33m,\u001b[0m \u001b[0mx_train\u001b[0m\u001b[1;33m,\u001b[0m \u001b[0my_train\u001b[0m\u001b[1;33m,\u001b[0m \u001b[0mclass_names\u001b[0m\u001b[1;33m)\u001b[0m\u001b[1;33m\u001b[0m\u001b[1;33m\u001b[0m\u001b[0m\n\u001b[0m",
      "\u001b[1;31mNameError\u001b[0m: name 'show_imagines' is not defined"
     ]
    }
   ],
   "source": [
    "class_names = ['T-shirt', 'Trouser', 'Pullover', 'Dress', 'Coat', \n",
    "               'Sandal', 'Shirt', 'Sneaker', 'Bag', 'Ankle boot']\n",
    "show_imagines(3, 5, x_train, y_train, class_names)"
   ]
  },
  {
   "cell_type": "code",
   "execution_count": 8,
   "metadata": {},
   "outputs": [
    {
     "name": "stdout",
     "output_type": "stream",
     "text": [
      "255 0\n"
     ]
    }
   ],
   "source": [
    "print(np.max(x_train), np.min(x_train))"
   ]
  },
  {
   "cell_type": "code",
   "execution_count": 5,
   "metadata": {},
   "outputs": [],
   "source": [
    "# x = (x - u) / std  减均值中心化，均值为0. 除方差，归一化标准差变为1\n",
    "#使数据符合均值0，方差1的正态分布\n",
    "#增加了基向量的正交性，标准的数据加速权重参数收敛\n",
    "from sklearn.preprocessing import StandardScaler\n",
    "scaler = StandardScaler()\n",
    "x_train_scaler = scaler.fit_transform(x_train.astype(np.float32).reshape(-1, 1)).reshape(-1, 28, 28)\n",
    "x_test_scaler = scaler.transform(x_test.astype(np.float32).reshape(-1, 1)).reshape(-1, 28, 28)\n",
    "x_valid_scaler = scaler.transform(x_valid.astype(np.float32).reshape(-1, 1)).reshape(-1, 28, 28)"
   ]
  },
  {
   "cell_type": "code",
   "execution_count": 6,
   "metadata": {},
   "outputs": [
    {
     "name": "stdout",
     "output_type": "stream",
     "text": [
      "2.0231433 -0.8105136\n"
     ]
    }
   ],
   "source": [
    "print(np.max(x_train_scaler), np.min(x_train_scaler))"
   ]
  },
  {
   "cell_type": "code",
   "execution_count": 7,
   "metadata": {},
   "outputs": [],
   "source": [
    "# tf.kears.models.Sequential()\n",
    "\n",
    "# model = keras.models.Sequential()\n",
    "# #28*28的图像平铺为长为28*28的向量\n",
    "# model.add(keras.layers.Flatten(input_shape=[28, 28]))\n",
    "# #添加全连接层\n",
    "# model.add(keras.layers.Dense(300, activation='sigmoid'))\n",
    "# model.add(keras.layers.Dense(100, activation='sigmoid'))\n",
    "# #输出层（因为是十类分类，所以输出结果是长度为10的向量，每个值表示概率）\n",
    "# model.add(keras.layers.Dense(10, activation='sigmoid'))\n",
    "\n",
    "#relu y = max(0, x)\n",
    "#softmax 向量变成概率分布\n",
    "#        x = [x1, x2, x3]   y=[e^x1/e^x1+e^x2+e^x3,  e^x2//e^x1+e^x2+e^x3, e^x3/e^x1+e^x2+e^x3]\n",
    "\n",
    "#reasons for sparse: y->index y->one_hot->[] 获取的label是单个数值，需要转为onehot，所这里用了sparse\n",
    "#sgd optimizer模型求解方法，\n",
    "#accuracy metrcis 关注的指标 \n",
    "\n",
    "model = keras.models.Sequential([keras.layers.Flatten(input_shape=[28, 28]), \n",
    "                                 keras.layers.Dense(300, activation='relu'), \n",
    "                                 keras.layers.Dense(100, activation='relu'), \n",
    "                                 keras.layers.Dense(10, activation='softmax')])\n",
    "\n",
    "model.compile(loss='sparse_categorical_crossentropy', \n",
    "              optimizer='sgd', metrics=['accuracy'])\n"
   ]
  },
  {
   "cell_type": "code",
   "execution_count": 8,
   "metadata": {},
   "outputs": [
    {
     "data": {
      "text/plain": [
       "[<tensorflow.python.keras.layers.core.Flatten at 0x1dd1fd23848>,\n",
       " <tensorflow.python.keras.layers.core.Dense at 0x1dd1fcfa088>,\n",
       " <tensorflow.python.keras.layers.core.Dense at 0x1dd263871c8>,\n",
       " <tensorflow.python.keras.layers.core.Dense at 0x1dd26387648>]"
      ]
     },
     "execution_count": 8,
     "metadata": {},
     "output_type": "execute_result"
    }
   ],
   "source": [
    "model.layers"
   ]
  },
  {
   "cell_type": "code",
   "execution_count": 9,
   "metadata": {},
   "outputs": [
    {
     "name": "stdout",
     "output_type": "stream",
     "text": [
      "Model: \"sequential\"\n",
      "_________________________________________________________________\n",
      "Layer (type)                 Output Shape              Param #   \n",
      "=================================================================\n",
      "flatten (Flatten)            (None, 784)               0         \n",
      "_________________________________________________________________\n",
      "dense (Dense)                (None, 300)               235500    \n",
      "_________________________________________________________________\n",
      "dense_1 (Dense)              (None, 100)               30100     \n",
      "_________________________________________________________________\n",
      "dense_2 (Dense)              (None, 10)                1010      \n",
      "=================================================================\n",
      "Total params: 266,610\n",
      "Trainable params: 266,610\n",
      "Non-trainable params: 0\n",
      "_________________________________________________________________\n"
     ]
    }
   ],
   "source": [
    "#ex 23500 = 784*300(满足矩阵乘法)\n",
    "model.summary()"
   ]
  },
  {
   "cell_type": "markdown",
   "metadata": {},
   "source": [
    "# callback函数\n",
    "## 对正在训练中的模型进行一些操作"
   ]
  },
  {
   "cell_type": "code",
   "execution_count": 10,
   "metadata": {},
   "outputs": [
    {
     "name": "stdout",
     "output_type": "stream",
     "text": [
      "Train on 55000 samples, validate on 5000 samples\n",
      "Epoch 1/10\n",
      "55000/55000 [==============================] - 6s 118us/sample - loss: 0.5308 - accuracy: 0.8130 - val_loss: 0.4118 - val_accuracy: 0.8592\n",
      "Epoch 2/10\n",
      "55000/55000 [==============================] - 6s 114us/sample - loss: 0.3911 - accuracy: 0.8607 - val_loss: 0.3945 - val_accuracy: 0.8562\n",
      "Epoch 3/10\n",
      "55000/55000 [==============================] - 6s 113us/sample - loss: 0.3546 - accuracy: 0.8715 - val_loss: 0.3447 - val_accuracy: 0.8786\n",
      "Epoch 4/10\n",
      "55000/55000 [==============================] - 6s 106us/sample - loss: 0.3292 - accuracy: 0.8809 - val_loss: 0.3512 - val_accuracy: 0.8722\n",
      "Epoch 5/10\n",
      "55000/55000 [==============================] - 6s 111us/sample - loss: 0.3106 - accuracy: 0.8867 - val_loss: 0.3294 - val_accuracy: 0.8768\n",
      "Epoch 6/10\n",
      "55000/55000 [==============================] - 6s 118us/sample - loss: 0.2939 - accuracy: 0.8936 - val_loss: 0.3150 - val_accuracy: 0.8840\n",
      "Epoch 7/10\n",
      "55000/55000 [==============================] - 7s 119us/sample - loss: 0.2805 - accuracy: 0.8984 - val_loss: 0.3161 - val_accuracy: 0.8854\n",
      "Epoch 8/10\n",
      "55000/55000 [==============================] - 7s 118us/sample - loss: 0.2682 - accuracy: 0.9015 - val_loss: 0.3193 - val_accuracy: 0.8866\n",
      "Epoch 9/10\n",
      "55000/55000 [==============================] - 7s 121us/sample - loss: 0.2570 - accuracy: 0.9063 - val_loss: 0.3045 - val_accuracy: 0.8900\n",
      "Epoch 10/10\n",
      "55000/55000 [==============================] - 7s 118us/sample - loss: 0.2473 - accuracy: 0.9104 - val_loss: 0.3071 - val_accuracy: 0.8906\n"
     ]
    }
   ],
   "source": [
    "# callback操作Tensorboard， earlystopping，ModelCheckpoint\n",
    "\n",
    "#定义一个callback日志文件夹\n",
    "logdir = os.path.join('callbacks')\n",
    "if not os.path.exists(logdir):\n",
    "    os.mkdir(logdir)\n",
    "output_model_file = os.path.join(logdir,\"fashion_mnist_model.h5\")\n",
    "\n",
    "callback = [keras.callbacks.TensorBoard(logdir), \n",
    "            keras.callbacks.ModelCheckpoint(output_model_file, save_best_only = True), #只保留最好的，默认保留最新的\n",
    "            keras.callbacks.EarlyStopping(patience=5, min_delta=1e-3)] \n",
    "#min_delta最小优化阈值。patience未达到阈值要求下，几次迭代后停止。monitor关注哪一个指标，一般是验证集上目标函数的值 。\n",
    "history = model.fit(x_train_scaler, y_train, epochs=10, validation_data=(x_valid_scaler, y_valid), callbacks=callback)"
   ]
  },
  {
   "cell_type": "code",
   "execution_count": 15,
   "metadata": {},
   "outputs": [
    {
     "data": {
      "image/png": "[encoded data removed]",
      "text/plain": [
       "<Figure size 576x360 with 1 Axes>"
      ]
     },
     "metadata": {
      "needs_background": "light"
     },
     "output_type": "display_data"
    }
   ],
   "source": [
    "def plot_learning_curves(history):\n",
    "    pd.DataFrame(history.history).plot(figsize=(8,5))\n",
    "    plt.grid(True)\n",
    "    plt.gca().set_ylim(0,1)\n",
    "    plt.show()\n",
    "plot_learning_curves(history)"
   ]
  },
  {
   "cell_type": "code",
   "execution_count": 16,
   "metadata": {},
   "outputs": [
    {
     "name": "stdout",
     "output_type": "stream",
     "text": [
      "10000/10000 [==============================] - 1s 70us/sample - loss: 0.3342 - accuracy: 0.8814\n"
     ]
    },
    {
     "data": {
      "text/plain": [
       "[0.3341592279314995, 0.8814]"
      ]
     },
     "execution_count": 16,
     "metadata": {},
     "output_type": "execute_result"
    }
   ],
   "source": [
    "model.evaluate(x_test_scaler, y_test)"
   ]
  },
  {
   "cell_type": "code",
   "execution_count": null,
   "metadata": {},
   "outputs": [],
   "source": []
  }
 ],
 "metadata": {
  "kernelspec": {
   "display_name": "Python 3",
   "language": "python",
   "name": "python3"
  },
  "language_info": {
   "codemirror_mode": {
    "name": "ipython",
    "version": 3
   },
   "file_extension": ".py",
   "mimetype": "text/x-python",
   "name": "python",
   "nbconvert_exporter": "python",
   "pygments_lexer": "ipython3",
   "version": "3.7.4"
  }
 },
 "nbformat": 4,
 "nbformat_minor": 2
}
